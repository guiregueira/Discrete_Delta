{
 "cells": [
  {
   "cell_type": "markdown",
   "id": "b621032c",
   "metadata": {},
   "source": [
    "# Set Parameters"
   ]
  },
  {
   "cell_type": "code",
   "execution_count": 20,
   "id": "2c5bc395",
   "metadata": {},
   "outputs": [],
   "source": [
    "S=100\n",
    "K=110\n",
    "r=0.0129\n",
    "sigma=0.26\n",
    "q=0\n",
    "T= 0.5 # Time in Years\n",
    "tipo=\"C\"   # if Put just input \"P\""
   ]
  },
  {
   "cell_type": "markdown",
   "id": "116a6a6d",
   "metadata": {},
   "source": [
    "# Set Cumulative Probability Function"
   ]
  },
  {
   "cell_type": "code",
   "execution_count": 5,
   "id": "17c80d9d",
   "metadata": {},
   "outputs": [],
   "source": [
    "import numpy as np\n",
    "import math\n",
    "def N(x):\n",
    "    q=math.erf(x/math.sqrt(2.0))\n",
    "    return (1+q)/2"
   ]
  },
  {
   "cell_type": "markdown",
   "id": "02145c24",
   "metadata": {},
   "source": [
    "# Set Black & Scholes"
   ]
  },
  {
   "cell_type": "markdown",
   "id": "3d34cc82",
   "metadata": {},
   "source": [
    "### In case of a Call contract: "
   ]
  },
  {
   "cell_type": "markdown",
   "id": "dfc92b62",
   "metadata": {},
   "source": [
    "$$\n",
    "{\\displaystyle Se^{-q\\tau }\\Phi (d_{1})-e^{-r\\tau }K\\Phi (d_{2})\\,}\n",
    "$$"
   ]
  },
  {
   "cell_type": "markdown",
   "id": "1625a4c9",
   "metadata": {},
   "source": [
    "### In case of a Put contract"
   ]
  },
  {
   "cell_type": "markdown",
   "id": "65ad3c7c",
   "metadata": {},
   "source": [
    "$$\n",
    "{\\displaystyle e^{-r\\tau }K\\Phi (-d_{2})-Se^{-q\\tau }\\Phi (-d_{1})\\,}\n",
    "$$"
   ]
  },
  {
   "cell_type": "code",
   "execution_count": 34,
   "id": "b63fc623",
   "metadata": {},
   "outputs": [],
   "source": [
    "def d1_func(S,K,r,q,sigma,T):\n",
    "    d1=(np.log(S/K)+(r-q+sigma**2/2)*T)/(sigma*math.sqrt(T))\n",
    "    return d1\n",
    "def d2_func(S,K,r,q,sigma,T):\n",
    "    d1=(np.log(S/K)+(r-q+sigma**2/2)*T)/(sigma*math.sqrt(T))\n",
    "    d2=d1-sigma*math.sqrt(T)\n",
    "    return d2\n",
    "def black_scholes_call(S,K,r,q,sigma,T):\n",
    "    d1=d1_func(S,K,r,q,sigma,T)\n",
    "    d2=d2_func(S,K,r,q,sigma,T)\n",
    "    price=S*math.exp(-q*T)*N(d1)-math.exp(-r*T)*K*N(d2)\n",
    "    return price\n",
    "def black_scholes_put(S,K,r,q,sigma,T):\n",
    "    d1=d1_func(S,K,r,q,sigma,T)\n",
    "    d2=d2_func(S,K,r,q,sigma,T)\n",
    "    price=math.exp(-r*T)*K*N(-d2)-S*math.exp(-q*T)*N(-d1)\n",
    "    return price\n",
    "def delta_func(S,K,r,q,sigma,T,tipo):\n",
    "    d1=d1_func(S,K,r,q,sigma,T)\n",
    "    if tipo==\"C\":\n",
    "        delta=math.exp(-q*T)*N(d1)\n",
    "    if tipo==\"P\":\n",
    "        delta=-math.exp(-q*T)*N(-d1)\n",
    "    return delta"
   ]
  },
  {
   "cell_type": "code",
   "execution_count": 35,
   "id": "872b37b8",
   "metadata": {},
   "outputs": [
    {
     "name": "stdout",
     "output_type": "stream",
     "text": [
      "Price: $3.89\n"
     ]
    }
   ],
   "source": [
    "if tipo==\"C\":\n",
    "    price=black_scholes_call(S,K,r,q,sigma,T)\n",
    "if tipo==\"P\":\n",
    "    price =black_scholes_put(S,K,r,q,sigma,T)\n",
    "print(f\"Price: ${round(price,2)}\")"
   ]
  },
  {
   "cell_type": "markdown",
   "id": "b04e1eba",
   "metadata": {},
   "source": [
    "# Normal Delta"
   ]
  },
  {
   "cell_type": "markdown",
   "id": "1fdccf53",
   "metadata": {},
   "source": [
    "### In case of Call contract:"
   ]
  },
  {
   "cell_type": "markdown",
   "id": "f388ee21",
   "metadata": {},
   "source": [
    "$$\n",
    "{\\displaystyle e^{-q\\tau }\\Phi (d_{1})\\,}\n",
    "$$"
   ]
  },
  {
   "cell_type": "markdown",
   "id": "825fe29f",
   "metadata": {},
   "source": [
    "### In case of Put contract:"
   ]
  },
  {
   "cell_type": "markdown",
   "id": "0c157dd0",
   "metadata": {},
   "source": [
    "$$\n",
    " -e^{-q \\tau} \\Phi(-d_1)\\, \n",
    " $$"
   ]
  },
  {
   "cell_type": "code",
   "execution_count": 43,
   "id": "f255a2e5",
   "metadata": {},
   "outputs": [
    {
     "name": "stdout",
     "output_type": "stream",
     "text": [
      "Delta: 0.3477464439690568\n"
     ]
    }
   ],
   "source": [
    "\n",
    "print(f\"Delta: {round(delta_func(S,K,r,q,sigma,T,tipo),round(19))}\")"
   ]
  },
  {
   "cell_type": "markdown",
   "id": "3ff0f7dd",
   "metadata": {},
   "source": [
    "# Discrete Delta\n"
   ]
  },
  {
   "cell_type": "markdown",
   "id": "3217c6cd",
   "metadata": {},
   "source": [
    "<img src=\"Delta_Taleb.jpg\" width=\"800\" height=\"800\">"
   ]
  },
  {
   "cell_type": "code",
   "execution_count": 46,
   "id": "6f6121c9",
   "metadata": {},
   "outputs": [],
   "source": [
    "variation=0.01 # you can set your own variation\n",
    "if tipo==\"C\":\n",
    "    first=black_scholes_call(S-variation,K,r,q,sigma,T)/(-variation)\n",
    "    second=black_scholes_call(S+variation,K,r,q,sigma,T)/(variation)\n",
    "if tipo==\"P\":\n",
    "    first=black_scholes_put(S-variation,K,r,q,sigma,T)/(-variation)\n",
    "    second=black_scholes_put(S+variation,K,r,q,sigma,T)/(variation)\n"
   ]
  },
  {
   "cell_type": "code",
   "execution_count": 47,
   "id": "d35b41c1",
   "metadata": {},
   "outputs": [
    {
     "data": {
      "text/plain": [
       "0.3477464477510921"
      ]
     },
     "execution_count": 47,
     "metadata": {},
     "output_type": "execute_result"
    }
   ],
   "source": [
    "delta_taleb=0.5*(first+second)\n",
    "delta_taleb"
   ]
  },
  {
   "cell_type": "code",
   "execution_count": null,
   "id": "547481b6",
   "metadata": {},
   "outputs": [],
   "source": []
  }
 ],
 "metadata": {
  "kernelspec": {
   "display_name": "Python 3",
   "language": "python",
   "name": "python3"
  },
  "language_info": {
   "codemirror_mode": {
    "name": "ipython",
    "version": 3
   },
   "file_extension": ".py",
   "mimetype": "text/x-python",
   "name": "python",
   "nbconvert_exporter": "python",
   "pygments_lexer": "ipython3",
   "version": "3.8.8"
  }
 },
 "nbformat": 4,
 "nbformat_minor": 5
}
